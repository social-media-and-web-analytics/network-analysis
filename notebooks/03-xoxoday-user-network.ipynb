{
 "cells": [
  {
   "cell_type": "markdown",
   "id": "bfe5400a",
   "metadata": {},
   "source": [
    "# Xoxoday User Network\n",
    "This notebook will be an opportunity for you to explore *who* Xoxoday should target (as opposed to *what* they should tweet about). To do this, you will construct a user network.\n",
    "\n",
    "Start by importing the required packages and data, as before."
   ]
  },
  {
   "cell_type": "code",
   "execution_count": null,
   "id": "b782fb1f",
   "metadata": {},
   "outputs": [],
   "source": [
    "import pandas as pd\n",
    "import networkx as nx"
   ]
  },
  {
   "cell_type": "code",
   "execution_count": null,
   "id": "31251b4f",
   "metadata": {},
   "outputs": [],
   "source": [
    "df = pd.read_csv('./Xoxoday_Tweets_Data.csv')\n",
    "df.head()"
   ]
  },
  {
   "cell_type": "markdown",
   "id": "4b2b1eb7",
   "metadata": {},
   "source": [
    "Note that the dataset already has `Source` and `Target` columns where `Source` contains the Twitter username of the author of the tweet and `Target` contains the username of anyone mention in the tweet or who the tweet was a reply to.\n",
    "\n",
    "**Question:** What pre-processing of the original tweets was performed to create the `Source` and `Target` columns?\n",
    "\n",
    "Note that the dataset also already contains a `Relationship` column describing the type of relationship each (potential) edge represents."
   ]
  },
  {
   "cell_type": "markdown",
   "id": "a005bc38",
   "metadata": {},
   "source": [
    "## Exercise 01 - Explore the Relationship Types\n",
    "Write code below to count how many edges there are of each relationship type in the dataset, observe some examples of each relationship type and  ensure you feel confident about the meaning of each relationship type.\n",
    "\n",
    "**Question:** What pre-processing of the original tweets was performed to create the `Relationship` column?"
   ]
  },
  {
   "cell_type": "code",
   "execution_count": null,
   "id": "1513610e",
   "metadata": {},
   "outputs": [],
   "source": [
    "# (SOLUTION)"
   ]
  },
  {
   "cell_type": "markdown",
   "id": "f6b83379",
   "metadata": {},
   "source": [
    "## Exercise 02 - Construct User Network\n",
    "In this final exercise, you will create a user network based on which users mentioned which other users. You will not include mentions of Xoxoday, because Xoxoday want to know about user influence beyond themselves. You will create edge weights based on the number of times a user mentioned another user, and you will use [eigenvector centrality](https://en.wikipedia.org/wiki/Eigenvector_centrality) to measure user influence in the network.\n",
    "\n",
    "Your goal is to identify influential users for Xoxoday.\n",
    "\n",
    "Hint, the following steps are a guide:\n",
    "1. Create a new DataFrame containing only the rows where the `Relationship` column equals `Mentions`.\n",
    "2. Filter out any mentions which are to `thexoxoday`.\n",
    "3. Create an edge list by grouping by `Source` and `Target` and counting the number of rows in the `Relationship` column.\n",
    "4. Create a `networkx` graph from the resulting edgelist (visualise the graph if you want).\n",
    "5. Calcuate the `nx.eigenvector_centrality(G, weight = 'Relationship', max_iter= 1000)` of the graph.\n",
    "6. Identify and print the 5 nodes with highest eigenvector centrality.\n",
    "7. Consider what these nodes represent and how Xoxoday could use the results."
   ]
  },
  {
   "cell_type": "code",
   "execution_count": null,
   "id": "0109e352",
   "metadata": {},
   "outputs": [],
   "source": [
    "# (SOLUTION)\n"
   ]
  }
 ],
 "metadata": {
  "kernelspec": {
   "display_name": "Python 3 (ipykernel)",
   "language": "python",
   "name": "python3"
  },
  "language_info": {
   "codemirror_mode": {
    "name": "ipython",
    "version": 3
   },
   "file_extension": ".py",
   "mimetype": "text/x-python",
   "name": "python",
   "nbconvert_exporter": "python",
   "pygments_lexer": "ipython3",
   "version": "3.10.0"
  }
 },
 "nbformat": 4,
 "nbformat_minor": 5
}
