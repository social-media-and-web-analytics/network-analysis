{
 "cells": [
  {
   "cell_type": "markdown",
   "id": "c800ef66",
   "metadata": {},
   "source": [
    "# Python Refresher\n",
    "An refresher / reminder / introduction to performing network analysis in Python.\n",
    "\n",
    "First let's import `pandas` for data handling and `networkx` for creating and visualising networks."
   ]
  },
  {
   "cell_type": "code",
   "execution_count": null,
   "id": "e6523dfb",
   "metadata": {},
   "outputs": [],
   "source": [
    "import pandas as pd\n",
    "import networkx as nx"
   ]
  },
  {
   "cell_type": "markdown",
   "id": "118d0e45",
   "metadata": {},
   "source": [
    "## Create and visualise a simple user network\n",
    "We will use `pandas` to create a list of all the edges in a network, where an edge is described by a \"source\" node, a \"target\" node, and an edge weight. Note that we are assuming the edges are \"directed\" from the the source node to the target node.\n",
    "\n",
    "Run the code below to create the edge list and print its `head()`."
   ]
  },
  {
   "cell_type": "code",
   "execution_count": null,
   "id": "74ee86ab",
   "metadata": {},
   "outputs": [],
   "source": [
    "edgelist = pd.DataFrame({\n",
    "    'Source':['User1','User1','User1','User2','User2','User3'],\n",
    "    'Target':['User2','User3','User4','User3','User4','User4'],\n",
    "    'Weight':[1,1,1,1,1,1],\n",
    "})\n",
    "\n",
    "edgelist.head()"
   ]
  },
  {
   "cell_type": "markdown",
   "id": "db2c5434",
   "metadata": {},
   "source": [
    "We will use the `networkx` package to visualise the nwtwork. We first create the network / graph object using `from_pandas_edgelist` and then visualise the network using the `draw` method. Note that when we create the network, we pass in the edge list and specify the source, target, and weight columns. We also indicate the edges are directed (if they are) by using `DiGraph()`.\n",
    "\n",
    "Run the code below to create and visualise the network described by the edge list."
   ]
  },
  {
   "cell_type": "code",
   "execution_count": null,
   "id": "61811046",
   "metadata": {},
   "outputs": [],
   "source": [
    "G = nx.from_pandas_edgelist(\n",
    "    edgelist,\n",
    "    source='Source',\n",
    "    target='Target',\n",
    "    edge_attr='Weight',\n",
    "    create_using=nx.DiGraph(),\n",
    ")\n",
    "\n",
    "nx.draw(G, with_labels=True)"
   ]
  },
  {
   "cell_type": "markdown",
   "id": "7ab3a40e",
   "metadata": {},
   "source": [
    "Note that the edge weights specified above are one example of attributes we can attach to edges and nodes. See [here](https://networkx.org/documentation/stable/tutorial.html#adding-attributes-to-graphs-nodes-and-edges) for more details."
   ]
  },
  {
   "cell_type": "markdown",
   "id": "dcccc2d2",
   "metadata": {},
   "source": [
    "## (Optional) Exercises\n",
    "1. If you would like to familiarise yourself further with visualising and analysing networks in Python, then please explore the [networkx package tutorial](https://networkx.org/documentation/stable/tutorial.html#).\n",
    "\n",
    "2. Feel free to try creating some of your own simple (toy) graphs representing relationships in the real world systems."
   ]
  }
 ],
 "metadata": {
  "kernelspec": {
   "display_name": "Python 3 (ipykernel)",
   "language": "python",
   "name": "python3"
  },
  "language_info": {
   "codemirror_mode": {
    "name": "ipython",
    "version": 3
   },
   "file_extension": ".py",
   "mimetype": "text/x-python",
   "name": "python",
   "nbconvert_exporter": "python",
   "pygments_lexer": "ipython3",
   "version": "3.10.0"
  }
 },
 "nbformat": 4,
 "nbformat_minor": 5
}
