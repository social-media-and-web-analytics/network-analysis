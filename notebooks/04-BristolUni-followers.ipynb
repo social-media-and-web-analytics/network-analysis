{
 "cells": [
  {
   "cell_type": "markdown",
   "id": "56f7b767",
   "metadata": {},
   "source": [
    "# BristolUni Followers\n",
    "Let's now analyse some recently collected Twitter data relating to the followers of The University of Bristol's Twitter account (@BristolUni).\n",
    "\n",
    "The data is in JSON format so we will need to do some pre-processing. Run the following code to load the data and print the first 3 followers in the list."
   ]
  },
  {
   "cell_type": "code",
   "execution_count": null,
   "id": "134b2511",
   "metadata": {},
   "outputs": [],
   "source": [
    "import json\n",
    "\n",
    "with open('./BristolUni_followers.json', 'r') as f:\n",
    "    followers = json.load(f)\n",
    "    \n",
    "print(json.dumps(followers[:3], indent=4))"
   ]
  },
  {
   "cell_type": "markdown",
   "id": "82639a76",
   "metadata": {},
   "source": [
    "In in the list of followers we can see the dictionary representing each user includes the users name, username, user id, when the account was created, whether they are a \"verified\" Twitter users, their description / bio, and their public metrics (including how many users follow them, how many users they follow, how many times they have tweeted, and how many [Twitter lists](https://help.twitter.com/en/using-twitter/twitter-lists) they are included in)."
   ]
  },
  {
   "cell_type": "markdown",
   "id": "df1efcb8",
   "metadata": {},
   "source": [
    "## Process into a DataFrame\n",
    "To make the it easier to manipulate the data, let's format the JSON data into a DataFrame.\n",
    "\n",
    "*Note*: We use the `json_normalize` method to \"flatten\" the dictionary representing each user so that the `public_metrics` variables are individual columns in the DataFrame."
   ]
  },
  {
   "cell_type": "code",
   "execution_count": null,
   "id": "29cf696d",
   "metadata": {},
   "outputs": [],
   "source": [
    "import pandas as pd\n",
    "df = pd.json_normalize(followers, record_prefix='')\n",
    "df.columns = df.columns.str.removeprefix(\"public_metrics.\")\n",
    "df.head()"
   ]
  },
  {
   "cell_type": "markdown",
   "id": "d7e2d82b",
   "metadata": {},
   "source": [
    "## Exercise 01: Analyse follower locations\n",
    "Count the number of followers for each value in the `location` column.\n",
    "\n",
    "**Question:** What is the most common location of followers of `@BristolUni`?\n",
    "\n",
    "**Question:** By performing a similar analysis, are you able to say what % of the users are verified?"
   ]
  },
  {
   "cell_type": "code",
   "execution_count": null,
   "id": "c22521ce",
   "metadata": {},
   "outputs": [],
   "source": [
    "# (SOLUTION)"
   ]
  },
  {
   "cell_type": "markdown",
   "id": "a5c13357",
   "metadata": {},
   "source": [
    "## Exercise 02: Analyse follower popularity\n",
    "Sort the values in the DataFrame by `followers_count` (with `ascending=False`) and print the `head(10)`.\n",
    "\n",
    "**Question:** Do you notice any commonalities about `@BristolUni`s 10 most popular followers?"
   ]
  },
  {
   "cell_type": "code",
   "execution_count": null,
   "id": "3957f5bc",
   "metadata": {},
   "outputs": [],
   "source": [
    "# (SOLUTION)"
   ]
  },
  {
   "cell_type": "markdown",
   "id": "e8511e99",
   "metadata": {},
   "source": [
    "## Exercise 03: Investigate relationships between in public metrics\n",
    "Run the code below to create a (log-scale) scatter plot of `followers_count` versus `following_count` for each of the users in the dataset.\n",
    "\n",
    "**Question:** Can you explain anything unusual about the shape of the point cloud? (*Hint:* Solution is hidden [here](https://help.twitter.com/en/using-twitter/twitter-follow-limit#:~:text=Every%20Twitter%20account%20can%20follow,ratio%20of%20followers%20to%20following.)).\n",
    "\n",
    "Create scatter plots for `followers_count` versus the other variables in `public_metrics`.\n",
    "\n",
    "**Question:** What does the analysis tell you about popular users of Twitter?"
   ]
  },
  {
   "cell_type": "code",
   "execution_count": null,
   "id": "7dd884f5",
   "metadata": {},
   "outputs": [],
   "source": [
    "# (SOLUTION)\n",
    "import matplotlib.pyplot as plt\n",
    "\n",
    "xlabel = 'followers_count'\n",
    "ylabel = 'following_count'\n",
    "\n",
    "fig = plt.figure()\n",
    "ax = plt.gca()\n",
    "ax.scatter(df[xlabel] , df[ylabel] , c='blue', alpha=0.1, edgecolors='none')\n",
    "ax.set_yscale('log')\n",
    "ax.set_xscale('log')\n",
    "ax.set_xlabel(xlabel);\n",
    "ax.set_ylabel(ylabel);"
   ]
  },
  {
   "cell_type": "markdown",
   "id": "12f36598",
   "metadata": {},
   "source": [
    "## Exercise 04: Calculate follower / follow ratio\n",
    "For each follower of BristolUni, calculate their follower / follow ratio and identify the 5 users with highest ratio.\n",
    "\n",
    "**Question:** Are they different from the followers with most followers?"
   ]
  },
  {
   "cell_type": "code",
   "execution_count": null,
   "id": "bfd2504a",
   "metadata": {},
   "outputs": [],
   "source": [
    "# (SOLUTION)"
   ]
  },
  {
   "cell_type": "markdown",
   "id": "0ab5d31d",
   "metadata": {},
   "source": [
    "## Exerise 06: (Advanced) Choose a location for a promotion event\n",
    "The University of Bristol is planning to host a promotion event in a particular location and wants to invite 10 local \"influencers\" from its list of followers to come to the event, in the hope of maximising Twitter activity around the event.\n",
    "\n",
    "Use the follower list to identify the best location to host the event. Justify your proposed location."
   ]
  },
  {
   "cell_type": "code",
   "execution_count": null,
   "id": "7d6911cd",
   "metadata": {},
   "outputs": [],
   "source": [
    "# (SOLUTION)"
   ]
  },
  {
   "cell_type": "markdown",
   "id": "23e0cded",
   "metadata": {},
   "source": [
    "## Exercise 07: (Advanced) Categorise followers\n",
    "Using text-classification or topic modelling, analyse the descriptions of users in the follower list and characterise `@BristolUni`'s followers so the University can decide who they should target for particular types of events.\n",
    "\n",
    "*Note:* You may need to install packages (using `!pip install` beyond the ones provided in this environment)."
   ]
  },
  {
   "cell_type": "code",
   "execution_count": null,
   "id": "c8b7d6a6",
   "metadata": {},
   "outputs": [],
   "source": [
    "# (SOLUTION)"
   ]
  }
 ],
 "metadata": {
  "kernelspec": {
   "display_name": "Python 3 (ipykernel)",
   "language": "python",
   "name": "python3"
  },
  "language_info": {
   "codemirror_mode": {
    "name": "ipython",
    "version": 3
   },
   "file_extension": ".py",
   "mimetype": "text/x-python",
   "name": "python",
   "nbconvert_exporter": "python",
   "pygments_lexer": "ipython3",
   "version": "3.10.0"
  }
 },
 "nbformat": 4,
 "nbformat_minor": 5
}
